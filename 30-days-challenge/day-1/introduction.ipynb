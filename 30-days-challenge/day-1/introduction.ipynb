{
 "cells": [
  {
   "cell_type": "markdown",
   "id": "016da05b",
   "metadata": {},
   "source": [
    "# Excercise LV1"
   ]
  },
  {
   "cell_type": "markdown",
   "id": "d5c4b986",
   "metadata": {},
   "source": [
    "### 1. Open the python interactive shell and do the following operations. The operands are 3 and 4.\n",
    "- addition(+)\n",
    "- subtraction(-)\n",
    "- multiplication(*)\n",
    "- modulus(%)\n",
    "- division(/)\n",
    "- exponential(**)\n",
    "- floor division operator(//)"
   ]
  },
  {
   "cell_type": "code",
   "execution_count": 5,
   "id": "a2ffecac",
   "metadata": {},
   "outputs": [],
   "source": [
    "a = 3\n",
    "b = 4"
   ]
  },
  {
   "cell_type": "code",
   "execution_count": 16,
   "id": "269001bb",
   "metadata": {
    "scrolled": true
   },
   "outputs": [
    {
     "name": "stdout",
     "output_type": "stream",
     "text": [
      "addition: = 7\n",
      "subtraction: = -1\n",
      "multiplication: = 12\n",
      "modulus: = 3\n",
      "division: = 0.75\n",
      "exponential: = 81\n",
      "floor division operator: 0\n"
     ]
    }
   ],
   "source": [
    "print(f'addition: = {a+b}')\n",
    "print(f'subtraction: = {a-b}')\n",
    "print (f'multiplication: = {a*b}')\n",
    "print(f'modulus: = {a%b}')\n",
    "print(f\"division: = {a/b}\")\n",
    "print(f'exponential: = {a**b}')\n",
    "print(f\"floor division operator: {a//b}\")"
   ]
  },
  {
   "cell_type": "markdown",
   "id": "dd62ed13",
   "metadata": {},
   "source": [
    "### 2. Write strings on the python interactive shell. The strings are the following:\n",
    "- Your name\n",
    "- Your family name\n",
    "- Your country\n",
    "- I am enjoying 30 days of python"
   ]
  },
  {
   "cell_type": "code",
   "execution_count": 17,
   "id": "a184aa2d",
   "metadata": {},
   "outputs": [
    {
     "name": "stdout",
     "output_type": "stream",
     "text": [
      "Your name\n",
      "Your family name\n",
      "Your country\n",
      "I am enjoying 30 days of coding\n"
     ]
    }
   ],
   "source": [
    "print(\"Your name\")\n",
    "print(\"Your family name\")\n",
    "print(\"Your country\")\n",
    "print(\"I am enjoying 30 days of coding\")"
   ]
  },
  {
   "cell_type": "markdown",
   "id": "5f113373",
   "metadata": {},
   "source": [
    "### 3. Check the data types of the following data:\n"
   ]
  },
  {
   "cell_type": "code",
   "execution_count": 24,
   "id": "98b316b2",
   "metadata": {},
   "outputs": [
    {
     "name": "stdout",
     "output_type": "stream",
     "text": [
      "<class 'int'>\n",
      "<class 'float'>\n",
      "<class 'float'>\n",
      "<class 'list'>\n",
      "<class 'str'>\n"
     ]
    }
   ],
   "source": [
    "print(type(10))\n",
    "print(type(9.8))\n",
    "print(type(3.14))\n",
    "print(type(['Asabeneh', 'Python', 'Finland']))\n",
    "print(type(\"Your name\"))"
   ]
  },
  {
   "cell_type": "markdown",
   "id": "c55237b3",
   "metadata": {},
   "source": [
    "# Exercise: Level 2"
   ]
  },
  {
   "cell_type": "markdown",
   "id": "500ad17e",
   "metadata": {},
   "source": [
    "### 1. Write an example for different Python data types such as Number(Integer, Float, Complex), String, Boolean, List, Tuple, Set and Dictionary."
   ]
  },
  {
   "cell_type": "code",
   "execution_count": 13,
   "id": "9ae87d88",
   "metadata": {},
   "outputs": [
    {
     "name": "stdout",
     "output_type": "stream",
     "text": [
      "4 is int\n",
      "3.14 is float\n",
      "5j <class 'complex'>\n",
      "python <class 'str'>\n",
      "True <class 'bool'>\n",
      "['laptop', 'charger', 'mobile phone'] <class 'list'>\n",
      "('coding', 'hacking', 'linux') <class 'tuple'>\n",
      "{'name': 'Ackerman', 'Language': 'python'} <class 'dict'>\n"
     ]
    }
   ],
   "source": [
    "a = 4\n",
    "b = 3.14\n",
    "c = 5j\n",
    "d = \"python\"\n",
    "e = True\n",
    "f = [\"laptop\", \"charger\",\"mobile phone\"]\n",
    "g = ('coding','hacking','linux')\n",
    "h = {'name':\"Ackerman\", 'Language':'python'}\n",
    "\n",
    "print (f\"{a} is int\")\n",
    "print (f\"{b} is float\")\n",
    "print (f\"{c}\",type(c))\n",
    "print (d, type(d))\n",
    "print(e, type(e))\n",
    "print (f,type(f))\n",
    "print (g, type(g))\n",
    "print (h, type(h))"
   ]
  }
 ],
 "metadata": {
  "kernelspec": {
   "display_name": "Python 3 (ipykernel)",
   "language": "python",
   "name": "python3"
  },
  "language_info": {
   "codemirror_mode": {
    "name": "ipython",
    "version": 3
   },
   "file_extension": ".py",
   "mimetype": "text/x-python",
   "name": "python",
   "nbconvert_exporter": "python",
   "pygments_lexer": "ipython3",
   "version": "3.9.2"
  }
 },
 "nbformat": 4,
 "nbformat_minor": 5
}
