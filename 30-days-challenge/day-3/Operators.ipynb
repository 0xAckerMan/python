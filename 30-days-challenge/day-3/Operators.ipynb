{
 "cells": [
  {
   "cell_type": "code",
   "execution_count": 1,
   "id": "1dce47d3",
   "metadata": {},
   "outputs": [],
   "source": [
    "# Declare your age as integer variable\n",
    "Age = 95\n",
    "\n",
    "# Declare your height as a float variable\n",
    "height = 5.71\n",
    "\n",
    "#Declare a variable that store a complex number\n",
    "complexx = 5j"
   ]
  },
  {
   "cell_type": "code",
   "execution_count": 8,
   "id": "c38464f7",
   "metadata": {},
   "outputs": [
    {
     "name": "stdout",
     "output_type": "stream",
     "text": [
      "Enter base: 20\n",
      "Enter height: 10\n",
      "The area of the triangle is  100.0\n"
     ]
    }
   ],
   "source": [
    "#Write a script that prompts the user to enter base and height of the triangle and calculate an area \n",
    "#of this triangle (area = 0.5 x b x h).\n",
    "\n",
    "def area():\n",
    "    b = int(input(\"Enter base: \"))\n",
    "    h= int(input(\"Enter height: \"))\n",
    "    a = 0.5 * b * h\n",
    "    \n",
    "    return (a)\n",
    "\n",
    "def main():\n",
    "    print (\"The area of the triangle is \", area())\n",
    "    \n",
    "main()"
   ]
  },
  {
   "cell_type": "code",
   "execution_count": 10,
   "id": "5f3ee62b",
   "metadata": {},
   "outputs": [
    {
     "name": "stdout",
     "output_type": "stream",
     "text": [
      "Enter side a: 5\n",
      "Enter side b: 4\n",
      "Enter side c: 3\n",
      "The perimeter of the triangle is 12\n"
     ]
    }
   ],
   "source": [
    "#Write a script that prompts the user to enter side a, side b, and side c of the triangle.\n",
    "# Calculate the perimeter of the triangle (perimeter = a + b + c).\n",
    "\n",
    "a = int(input (\"Enter side a: \"))\n",
    "b = int(input(\"Enter side b: \"))\n",
    "c = int(input(\"Enter side c: \"))\n",
    "\n",
    "perimeter = a + b + c\n",
    "\n",
    "print ('The perimeter of the triangle is',perimeter)"
   ]
  },
  {
   "cell_type": "code",
   "execution_count": 4,
   "id": "239ae194",
   "metadata": {},
   "outputs": [
    {
     "name": "stdout",
     "output_type": "stream",
     "text": [
      "Enter the lenght: 3\n",
      "Enter the width: 4\n",
      "\n",
      "\n",
      "The area is:  12\n",
      "The perimeter is:  14\n"
     ]
    }
   ],
   "source": [
    "#Get length and width of a rectangle using prompt.\n",
    "#Calculate its area (area = length x width) and perimeter (perimeter = 2 x (length + width))\n",
    "\n",
    "l = int (input(\"Enter the lenght: \"))\n",
    "w = int(input(\"Enter the width: \"))\n",
    "\n",
    "def area():\n",
    "    return l * w \n",
    "\n",
    "def perimeter():\n",
    "    return 2*(l+w)\n",
    "\n",
    "def main():\n",
    "    print('\\n')\n",
    "    print(\"The area is: \", area())\n",
    "    print (\"The perimeter is: \", perimeter())\n",
    "    \n",
    "main()\n",
    "l\n"
   ]
  },
  {
   "cell_type": "code",
   "execution_count": 11,
   "id": "19d59f02",
   "metadata": {},
   "outputs": [
    {
     "name": "stdout",
     "output_type": "stream",
     "text": [
      "Enter the radius: 4\n",
      "The area is  50.24\n",
      "The circumference is  25.12\n"
     ]
    }
   ],
   "source": [
    "# Get radius of a circle using prompt.\n",
    "#Calculate the area (area = pi x r x r) and circumference (c = 2 x pi x r) where pi = 3.14.\n",
    "\n",
    "radius = int(input(\"Enter the radius: \"))\n",
    "def area_of_circle():\n",
    "    return 3.14 * radius ** 2\n",
    "\n",
    "def circumference_of_circle():\n",
    "    return 2 * 3.14 * radius\n",
    "\n",
    "def main():\n",
    "    print (\"The area is \", area_of_circle())\n",
    "    print (\"The circumference is \", circumference_of_circle())\n",
    "    \n",
    "if __name__ == '__main__':\n",
    "    main()\n"
   ]
  },
  {
   "cell_type": "code",
   "execution_count": 15,
   "id": "5e268a67",
   "metadata": {},
   "outputs": [
    {
     "name": "stdout",
     "output_type": "stream",
     "text": [
      "6\n",
      "6\n",
      "True\n"
     ]
    }
   ],
   "source": [
    "#Find the length of 'python' and 'dragon' and make a falsy comparison statement.\n",
    "\n",
    "a = 'python'\n",
    "b = 'dragon'\n",
    "\n",
    "print(len(a))\n",
    "print(len(b))\n",
    "\n",
    "print(len(a) == len(b))"
   ]
  },
  {
   "cell_type": "code",
   "execution_count": 20,
   "id": "64cbdc90",
   "metadata": {},
   "outputs": [
    {
     "name": "stdout",
     "output_type": "stream",
     "text": [
      "True\n"
     ]
    }
   ],
   "source": [
    "#Use and operator to check if 'on' is found in both 'python' and 'dragon'\n",
    "print('on' in 'dragon' and 'python')"
   ]
  },
  {
   "cell_type": "code",
   "execution_count": 21,
   "id": "92a316af",
   "metadata": {},
   "outputs": [
    {
     "name": "stdout",
     "output_type": "stream",
     "text": [
      "True\n"
     ]
    }
   ],
   "source": [
    "#I hope this course is not full of jargon. Use in operator to check if jargon is in the sentence.\n",
    "\n",
    "print (\"jargon\" in \"I hope this course is not full of jargon\")"
   ]
  },
  {
   "cell_type": "code",
   "execution_count": 24,
   "id": "f0e9e40f",
   "metadata": {},
   "outputs": [
    {
     "name": "stdout",
     "output_type": "stream",
     "text": [
      "False\n"
     ]
    }
   ],
   "source": [
    "#There is no 'on' in both dragon and python\n",
    "\n",
    "print(\"on\" not in \"python\" and 'dragon')"
   ]
  },
  {
   "cell_type": "code",
   "execution_count": 9,
   "id": "eeb38d26",
   "metadata": {},
   "outputs": [
    {
     "name": "stdout",
     "output_type": "stream",
     "text": [
      "The length of python is 6\n",
      "The length in float is:  6.0\n",
      "The value of the length in strings: 6\n"
     ]
    }
   ],
   "source": [
    "#Find the length of the text python and convert the value to float and convert it to string\n",
    "a= len(\"python\")\n",
    "print(\"The length of python is\",a)\n",
    "print (\"The length in float is: \",float(a))\n",
    "print (\"The value of the length in strings:\",str(a))"
   ]
  },
  {
   "cell_type": "code",
   "execution_count": 13,
   "id": "229a09fe",
   "metadata": {},
   "outputs": [
    {
     "name": "stdout",
     "output_type": "stream",
     "text": [
      "Enter a number: 10000\n",
      "10000  is even\n"
     ]
    }
   ],
   "source": [
    "Even numbers are divisible by 2 and the remainder is zero. How do you check if a number is even or not using python?\n",
    "\n",
    "number = int(input(\"Enter a number: \"))\n",
    "\n",
    "if number % 2 == 0:\n",
    "    print(number,\" is even\")\n",
    "else: \n",
    "    print(number,\" is odd\")"
   ]
  },
  {
   "cell_type": "code",
   "execution_count": 16,
   "id": "d078e4a5",
   "metadata": {},
   "outputs": [
    {
     "name": "stdout",
     "output_type": "stream",
     "text": [
      "True\n"
     ]
    }
   ],
   "source": [
    "#Check if the floor division of 7 by 3 is equal to the int converted value of 2.7.\n",
    "print(7//3 == int(2.7))"
   ]
  },
  {
   "cell_type": "code",
   "execution_count": 17,
   "id": "917441aa",
   "metadata": {},
   "outputs": [
    {
     "name": "stdout",
     "output_type": "stream",
     "text": [
      "False\n"
     ]
    }
   ],
   "source": [
    "#Check if type of '10' is equal to type of 10\n",
    "print(type(10)==type(\"10\"))"
   ]
  },
  {
   "cell_type": "code",
   "execution_count": 18,
   "id": "03f0d69a",
   "metadata": {},
   "outputs": [
    {
     "name": "stdout",
     "output_type": "stream",
     "text": [
      "False\n"
     ]
    }
   ],
   "source": [
    "#Check if int('9.8') is equal to 10\n",
    "print(int(9.8)==10)"
   ]
  },
  {
   "cell_type": "code",
   "execution_count": 2,
   "id": "c19d306f",
   "metadata": {},
   "outputs": [
    {
     "name": "stdout",
     "output_type": "stream",
     "text": [
      "Enter the hours: 40\n",
      "Enter your rate per hour: 28\n",
      "You weekly earning is  1120\n"
     ]
    }
   ],
   "source": [
    "#Write a script that prompts the user to enter hours and rate per hour. Calculate pay of the person?\n",
    "\n",
    "hours = int(input(\"Enter the hours: \"))\n",
    "rate = int(input(\"Enter your rate per hour: \"))\n",
    "total =hours * rate\n",
    "print(\"You weekly earning is \", total)"
   ]
  },
  {
   "cell_type": "code",
   "execution_count": 4,
   "id": "84536473",
   "metadata": {},
   "outputs": [
    {
     "name": "stdout",
     "output_type": "stream",
     "text": [
      "Enter number of years you have lived: 100\n",
      "A person can live for 3153600000 seconds\n"
     ]
    }
   ],
   "source": [
    "#Write a script that prompts the user to enter number of years. Calculate the number of seconds a person can live. Assume a person can live hundred years\n",
    "year = int(input(\"Enter number of years you have lived: \"))\n",
    "seconds = year * 365 * 24 * 60 * 60\n",
    "\n",
    "print(f\"A person can live for {seconds} seconds\")"
   ]
  },
  {
   "cell_type": "code",
   "execution_count": 5,
   "id": "bddebc6b",
   "metadata": {},
   "outputs": [
    {
     "name": "stdout",
     "output_type": "stream",
     "text": [
      "1 1 1 1 1\n",
      "2 1 2 4 8\n",
      "3 1 3 9 27\n",
      "4 1 4 16 64\n",
      "5 1 5 25 125\n"
     ]
    }
   ],
   "source": [
    "# Write a Python script that displays the following table\n",
    "# Define the data for the table\n",
    "data = [    [1, 1, 1, 1, 1],\n",
    "    [2, 1, 2, 4, 8],\n",
    "    [3, 1, 3, 9, 27],\n",
    "    [4, 1, 4, 16, 64],\n",
    "    [5, 1, 5, 25, 125]\n",
    "]\n",
    "\n",
    "# Print the table\n",
    "for row in data:\n",
    "    print(\" \".join(str(x) for x in row))"
   ]
  },
  {
   "cell_type": "code",
   "execution_count": 7,
   "id": "84e6406a",
   "metadata": {},
   "outputs": [
    {
     "name": "stdout",
     "output_type": "stream",
     "text": [
      "I hope everyone is enjoying the Python Challenge.\n",
      "Are you ?\n",
      "Days\tTopics\tExercises\n",
      "Day 1\t3\t5\n",
      "Day 2\t3\t5\n",
      "Day 3\t3\t5\n",
      "Day 4\t3\t5\n",
      "This is a backslash  symbol (\\)\n",
      "In every programming language it starts with \"Hello, World!\"\n"
     ]
    }
   ],
   "source": [
    "print('I hope everyone is enjoying the Python Challenge.\\nAre you ?') # line break\n",
    "print('Days\\tTopics\\tExercises') # adding tab space or 4 spaces \n",
    "print('Day 1\\t3\\t5')\n",
    "print('Day 2\\t3\\t5')\n",
    "print('Day 3\\t3\\t5')\n",
    "print('Day 4\\t3\\t5')\n",
    "print('This is a backslash  symbol (\\\\)') # To write a backslash\n",
    "print('In every programming language it starts with \\\"Hello, World!\\\"') # to write a double quote inside a single quote"
   ]
  },
  {
   "cell_type": "code",
   "execution_count": null,
   "id": "51d72d29",
   "metadata": {},
   "outputs": [],
   "source": []
  }
 ],
 "metadata": {
  "kernelspec": {
   "display_name": "Python 3 (ipykernel)",
   "language": "python",
   "name": "python3"
  },
  "language_info": {
   "codemirror_mode": {
    "name": "ipython",
    "version": 3
   },
   "file_extension": ".py",
   "mimetype": "text/x-python",
   "name": "python",
   "nbconvert_exporter": "python",
   "pygments_lexer": "ipython3",
   "version": "3.9.2"
  }
 },
 "nbformat": 4,
 "nbformat_minor": 5
}
