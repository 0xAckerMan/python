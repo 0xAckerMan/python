{
 "cells": [
  {
   "cell_type": "markdown",
   "id": "c114182a",
   "metadata": {},
   "source": [
    "# Exercises: Level 1"
   ]
  },
  {
   "cell_type": "markdown",
   "id": "385a6286",
   "metadata": {},
   "source": [
    "#### 1. Write a python comment saying 'Day 2: 30 Days of python programming'"
   ]
  },
  {
   "cell_type": "code",
   "execution_count": 1,
   "id": "f7b0d01d",
   "metadata": {},
   "outputs": [],
   "source": [
    "# Day2: 30 Days of python programming"
   ]
  },
  {
   "cell_type": "code",
   "execution_count": 6,
   "id": "b48f963f",
   "metadata": {},
   "outputs": [],
   "source": [
    "#Declare a first name variable and assign a value to it\n",
    "first_name = 'Levi'\n",
    "\n",
    "#Declare a last name variable and assign a value to it\n",
    "last_name = 'Ackerman'\n",
    "\n",
    "#Declare a full name variable and assign a value to it\n",
    "full_name = 'Levi Ackerman'\n",
    "\n",
    "#Declare a country variable and assign a value to it\n",
    "country = 'Japan'\n",
    "\n",
    "#Declare a city variable and assign a value to it\n",
    "city = 'Nairobi'\n",
    "\n",
    "#Declare an age variable and assign a value to it\n",
    "age = 70\n",
    "\n",
    "#Declare a year variable and assign a value to it\n",
    "year = 2100\n",
    "\n",
    "#Declare a variable is_married and assign a value to it\n",
    "is_married = True\n",
    "\n",
    "#Declare a variable is_true and assign a value to it\n",
    "is_true = False\n",
    "\n",
    "#Declare a variable is_light_on and assign a value to it\n",
    "is_light_on = True\n",
    "\n",
    "#Declare multiple variable on one line\n",
    "a,b,c = 4,5,6\n"
   ]
  },
  {
   "cell_type": "markdown",
   "id": "13cac807",
   "metadata": {},
   "source": [
    "# Exercises: Level 2"
   ]
  },
  {
   "cell_type": "code",
   "execution_count": 13,
   "id": "446e5fce",
   "metadata": {},
   "outputs": [
    {
     "name": "stdout",
     "output_type": "stream",
     "text": [
      "<class 'str'>\n",
      "<class 'str'>\n",
      "<class 'str'>\n",
      "<class 'str'>\n",
      "<class 'str'>\n",
      "<class 'int'>\n",
      "<class 'int'>\n",
      "<class 'bool'>\n",
      "<class 'bool'>\n",
      "<class 'bool'>\n",
      "<class 'int'>\n"
     ]
    }
   ],
   "source": [
    "#Check the data type of all your variables using type() built-in function\n",
    "print(type(first_name))\n",
    "print(type(last_name))\n",
    "print(type(full_name))\n",
    "print(type(country))\n",
    "print(type(city))\n",
    "print(type(age))\n",
    "print(type(year))\n",
    "print(type(is_married))\n",
    "print(type(is_true))\n",
    "print(type(is_light_on))\n",
    "print(type(a))"
   ]
  },
  {
   "cell_type": "code",
   "execution_count": 15,
   "id": "108971d6",
   "metadata": {},
   "outputs": [
    {
     "name": "stdout",
     "output_type": "stream",
     "text": [
      "4\n",
      "False\n"
     ]
    }
   ],
   "source": [
    "#Using the len() built-in function, find the length of your first name\n",
    "print(len(first_name))\n",
    "\n",
    "#Compare the length of your first name and your last name\n",
    "print(len(first_name)==len(last_name))"
   ]
  },
  {
   "cell_type": "markdown",
   "id": "b0d5554e",
   "metadata": {},
   "source": [
    "#### Declare 5 as num_one and 4 as num_two"
   ]
  },
  {
   "cell_type": "code",
   "execution_count": 17,
   "id": "5a2d7dc3",
   "metadata": {},
   "outputs": [
    {
     "name": "stdout",
     "output_type": "stream",
     "text": [
      "9\n",
      "1\n",
      "20\n",
      "1.25\n",
      "4\n",
      "625\n",
      "1\n"
     ]
    }
   ],
   "source": [
    "num_one = 5\n",
    "num_two = 4\n",
    "\n",
    "#Add num_one and num_two and assign the value to a variable total\n",
    "total = num_one + num_two\n",
    "\n",
    "#Subtract num_two from num_one and assign the value to a variable diff\n",
    "diff = num_one - num_two\n",
    "\n",
    "# Multiply num_two and num_one and assign the value to a variable product\n",
    "product = num_one * num_two\n",
    "\n",
    "#Divide num_one by num_two and assign the value to a variable division\n",
    "division = num_one / num_two\n",
    "\n",
    "#Use modulus division to find num_two divided by num_one and assign the value to a variable remainder\n",
    "remainder = num_two % num_one\n",
    "\n",
    "#Calculate num_one to the power of num_two and assign the value to a variable exp\n",
    "exp = num_one ** num_two\n",
    "\n",
    "#Find floor division of num_one by num_two and assign the value to a variable floor_division\n",
    "floor_division = num_one // num_two\n",
    "\n",
    "print (total)\n",
    "print(diff)\n",
    "print(product)\n",
    "print(division)\n",
    "print(remainder)\n",
    "print(exp)\n",
    "print(floor_division)\n"
   ]
  },
  {
   "cell_type": "markdown",
   "id": "9f35d102",
   "metadata": {},
   "source": [
    "#### The radius of a circle is 30 meters."
   ]
  },
  {
   "cell_type": "code",
   "execution_count": 5,
   "id": "6ae54d0e",
   "metadata": {},
   "outputs": [
    {
     "name": "stdout",
     "output_type": "stream",
     "text": [
      "Enter the radius: 30\n",
      "The area is 2827.7999999999997\n"
     ]
    }
   ],
   "source": [
    "# Calculate the area of a circle and assign the value to a variable name of area_of_circle\n",
    "\n",
    "def area_circle():\n",
    "    r = int(input(\"Enter the radius: \"))\n",
    "    a = 3.142 * r**2\n",
    "    return a\n",
    "\n",
    "def main():\n",
    "    area = area_circle()\n",
    "    print('The area is',area)\n",
    "    \n",
    "main()\n"
   ]
  },
  {
   "cell_type": "markdown",
   "id": "d1443476",
   "metadata": {},
   "source": [
    "#### Use the built-in input function to get first name, last name, country and age from a user and store the value to their corresponding variable names"
   ]
  },
  {
   "cell_type": "code",
   "execution_count": 15,
   "id": "89510e75",
   "metadata": {},
   "outputs": [
    {
     "name": "stdout",
     "output_type": "stream",
     "text": [
      "Enter the radius: 30\n",
      "188.51999999999998\n"
     ]
    }
   ],
   "source": [
    "# Calculate the circumference of a circle and assign the value to a variable name of circum_of_circle\n",
    "def circumference():\n",
    "    r = int(input(\"Enter the radius: \"))\n",
    "    c = 2 * 3.142 * r\n",
    "    return(c)\n",
    "\n",
    "def main():\n",
    "    circum_of_circle = circumference()\n",
    "    print (circum_of_circle)\n",
    "main()"
   ]
  },
  {
   "cell_type": "code",
   "execution_count": null,
   "id": "cb0d60a1",
   "metadata": {},
   "outputs": [],
   "source": [
    "first_name = input(\"Enter your first name: \")\n",
    "last_name = input(\"Enter your last name: \")\n",
    "county = input(\"Whats your country: \")\n",
    "age = input(\"Your age?: \")"
   ]
  },
  {
   "cell_type": "markdown",
   "id": "2907b730",
   "metadata": {},
   "source": [
    "#### Run help('keywords') in Python shell or in your file to check for the Python reserved words or keywords"
   ]
  },
  {
   "cell_type": "code",
   "execution_count": null,
   "id": "0a435f9d",
   "metadata": {},
   "outputs": [],
   "source": [
    "help('keywords')"
   ]
  }
 ],
 "metadata": {
  "kernelspec": {
   "display_name": "Python 3 (ipykernel)",
   "language": "python",
   "name": "python3"
  },
  "language_info": {
   "codemirror_mode": {
    "name": "ipython",
    "version": 3
   },
   "file_extension": ".py",
   "mimetype": "text/x-python",
   "name": "python",
   "nbconvert_exporter": "python",
   "pygments_lexer": "ipython3",
   "version": "3.9.2"
  }
 },
 "nbformat": 4,
 "nbformat_minor": 5
}
