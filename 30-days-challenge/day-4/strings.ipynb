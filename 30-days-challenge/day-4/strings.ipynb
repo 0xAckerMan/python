{
 "cells": [
  {
   "cell_type": "code",
   "execution_count": 2,
   "id": "470c6705",
   "metadata": {},
   "outputs": [
    {
     "name": "stdout",
     "output_type": "stream",
     "text": [
      "Thirty Days Of Python\n"
     ]
    }
   ],
   "source": [
    "#Concatenate the string 'Thirty', 'Days', 'Of', 'Python' to a single string, 'Thirty Days Of Python'.\n",
    "\n",
    "string0 = ['Thirty', 'Days', 'Of', 'Python']\n",
    "print(\" \".join(string0))"
   ]
  },
  {
   "cell_type": "code",
   "execution_count": 4,
   "id": "7995b636",
   "metadata": {},
   "outputs": [
    {
     "name": "stdout",
     "output_type": "stream",
     "text": [
      "Coding For All\n"
     ]
    }
   ],
   "source": [
    "#Concatenate the string 'Coding', 'For' , 'All' to a single string, 'Coding For All'.\n",
    "\n",
    "string1 = [ 'Coding', 'For' , 'All']\n",
    "\n",
    "print (' '.join(string1))"
   ]
  },
  {
   "cell_type": "code",
   "execution_count": 13,
   "id": "da6d2b7c",
   "metadata": {},
   "outputs": [
    {
     "name": "stdout",
     "output_type": "stream",
     "text": [
      "Coding For All\n",
      "the length of company 14\n",
      "CODING FOR ALL\n",
      "coding for all\n",
      "\n",
      "\n",
      "Capitalize:  Coding for all\n",
      "Title:  Coding For All\n",
      "Swap case:  cODING fOR aLL\n",
      "\n",
      "\n",
      " For All\n"
     ]
    }
   ],
   "source": [
    "#Declare a variable named company and assign it to an initial value \"Coding For All\".\n",
    "\n",
    "company = 'Coding For All'\n",
    "\n",
    "#Print the variable company using print().\n",
    "print(company)\n",
    "\n",
    "#Print the length of the company string using len() method and print().\n",
    "print(f'the length of company {len(company)}')\n",
    "\n",
    "#Change all the characters to uppercase letters using upper() method.\n",
    "print(company.upper())\n",
    "\n",
    "#Change all the characters to lowercase letters using lower() method.\n",
    "print(company.lower())\n",
    "\n",
    "print(\"\\n\")\n",
    "\n",
    "#Use capitalize(), title(), swapcase() methods to format the value of the string Coding For All.\n",
    "print(\"Capitalize: \",company.capitalize())\n",
    "print('Title: ',company.title())\n",
    "print('Swap case: ',company.swapcase())\n",
    "\n",
    "print(\"\\n\")\n",
    "\n",
    "#Cut(slice) out the first word of Coding For All string.\n",
    "print(company[6:])\n"
   ]
  },
  {
   "cell_type": "code",
   "execution_count": 16,
   "id": "23de00b3",
   "metadata": {},
   "outputs": [
    {
     "name": "stdout",
     "output_type": "stream",
     "text": [
      "0\n",
      "0\n",
      "0\n"
     ]
    }
   ],
   "source": [
    "#Check if Coding For All string contains a word Coding using the method index, find or other methods.\n",
    "print(company.index(\"Coding\"))\n",
    "print(company.find('Coding'))\n",
    "print(company.rfind('Coding'))"
   ]
  },
  {
   "cell_type": "code",
   "execution_count": 17,
   "id": "3293a04d",
   "metadata": {},
   "outputs": [
    {
     "name": "stdout",
     "output_type": "stream",
     "text": [
      "Python For All\n"
     ]
    }
   ],
   "source": [
    "#Replace the word coding in the string 'Coding For All' to Python.\n",
    "print(company.replace('Coding','Python'))"
   ]
  },
  {
   "cell_type": "code",
   "execution_count": null,
   "id": "5c293808",
   "metadata": {},
   "outputs": [],
   "source": []
  }
 ],
 "metadata": {
  "kernelspec": {
   "display_name": "Python 3 (ipykernel)",
   "language": "python",
   "name": "python3"
  },
  "language_info": {
   "codemirror_mode": {
    "name": "ipython",
    "version": 3
   },
   "file_extension": ".py",
   "mimetype": "text/x-python",
   "name": "python",
   "nbconvert_exporter": "python",
   "pygments_lexer": "ipython3",
   "version": "3.9.2"
  }
 },
 "nbformat": 4,
 "nbformat_minor": 5
}
