{
 "cells": [
  {
   "cell_type": "markdown",
   "id": "ae48d6e4",
   "metadata": {},
   "source": [
    "# Excercise LV1"
   ]
  },
  {
   "cell_type": "markdown",
   "id": "7b42f5dd",
   "metadata": {},
   "source": [
    "1. Open the python interactive shell and do the following operations. The operands are 3 and 4.\n",
    "- addition(+)\n",
    "- subtraction(-)\n",
    "- multiplication(*)\n",
    "- modulus(%)\n",
    "- division(/)\n",
    "- exponential(**)\n",
    "- floor division operator(//)"
   ]
  },
  {
   "cell_type": "code",
   "execution_count": 5,
   "id": "0844de6b",
   "metadata": {},
   "outputs": [],
   "source": [
    "a = 3\n",
    "b = 4"
   ]
  },
  {
   "cell_type": "code",
   "execution_count": 12,
   "id": "2114cad4",
   "metadata": {},
   "outputs": [
    {
     "name": "stdout",
     "output_type": "stream",
     "text": [
      "addition: 7\n",
      "subtraction: -1\n",
      "12\n",
      "3\n",
      "81\n",
      "0\n"
     ]
    }
   ],
   "source": [
    "print(f'addition: {a+b}')\n",
    "print(f'subtraction: {a-b}')\n",
    "print (a*b)\n",
    "print(a%b)\n",
    "print(a**b)\n",
    "print(a//b)"
   ]
  },
  {
   "cell_type": "code",
   "execution_count": null,
   "id": "7c952129",
   "metadata": {},
   "outputs": [],
   "source": []
  }
 ],
 "metadata": {
  "kernelspec": {
   "display_name": "Python 3 (ipykernel)",
   "language": "python",
   "name": "python3"
  },
  "language_info": {
   "codemirror_mode": {
    "name": "ipython",
    "version": 3
   },
   "file_extension": ".py",
   "mimetype": "text/x-python",
   "name": "python",
   "nbconvert_exporter": "python",
   "pygments_lexer": "ipython3",
   "version": "3.9.2"
  }
 },
 "nbformat": 4,
 "nbformat_minor": 5
}
